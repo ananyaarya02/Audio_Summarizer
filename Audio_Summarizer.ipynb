{
  "cells": [
    {
      "cell_type": "markdown",
      "metadata": {
        "id": "view-in-github",
        "colab_type": "text"
      },
      "source": [
        "<a href=\"https://colab.research.google.com/github/ananyaarya02/Audio_Summarizer/blob/main/Audio_Summarizer.ipynb\" target=\"_parent\"><img src=\"https://colab.research.google.com/assets/colab-badge.svg\" alt=\"Open In Colab\"/></a>"
      ]
    },
    {
      "cell_type": "code",
      "execution_count": 14,
      "metadata": {
        "colab": {
          "base_uri": "https://localhost:8080/"
        },
        "id": "4oVlDCb6uo30",
        "outputId": "611fc194-d056-4dde-96ce-fa2f8c570e7b"
      },
      "outputs": [
        {
          "output_type": "stream",
          "name": "stdout",
          "text": [
            "Requirement already satisfied: openai-whisper in /usr/local/lib/python3.10/dist-packages (20240930)\n",
            "Requirement already satisfied: pydub in /usr/local/lib/python3.10/dist-packages (0.25.1)\n",
            "Requirement already satisfied: transformers in /usr/local/lib/python3.10/dist-packages (4.46.3)\n",
            "Requirement already satisfied: gtts in /usr/local/lib/python3.10/dist-packages (2.5.4)\n",
            "Requirement already satisfied: numba in /usr/local/lib/python3.10/dist-packages (from openai-whisper) (0.60.0)\n",
            "Requirement already satisfied: numpy in /usr/local/lib/python3.10/dist-packages (from openai-whisper) (1.26.4)\n",
            "Requirement already satisfied: torch in /usr/local/lib/python3.10/dist-packages (from openai-whisper) (2.5.1+cu121)\n",
            "Requirement already satisfied: tqdm in /usr/local/lib/python3.10/dist-packages (from openai-whisper) (4.66.6)\n",
            "Requirement already satisfied: more-itertools in /usr/local/lib/python3.10/dist-packages (from openai-whisper) (10.5.0)\n",
            "Requirement already satisfied: tiktoken in /usr/local/lib/python3.10/dist-packages (from openai-whisper) (0.8.0)\n",
            "Requirement already satisfied: triton>=2.0.0 in /usr/local/lib/python3.10/dist-packages (from openai-whisper) (3.1.0)\n",
            "Requirement already satisfied: filelock in /usr/local/lib/python3.10/dist-packages (from transformers) (3.16.1)\n",
            "Requirement already satisfied: huggingface-hub<1.0,>=0.23.2 in /usr/local/lib/python3.10/dist-packages (from transformers) (0.26.5)\n",
            "Requirement already satisfied: packaging>=20.0 in /usr/local/lib/python3.10/dist-packages (from transformers) (24.2)\n",
            "Requirement already satisfied: pyyaml>=5.1 in /usr/local/lib/python3.10/dist-packages (from transformers) (6.0.2)\n",
            "Requirement already satisfied: regex!=2019.12.17 in /usr/local/lib/python3.10/dist-packages (from transformers) (2024.9.11)\n",
            "Requirement already satisfied: requests in /usr/local/lib/python3.10/dist-packages (from transformers) (2.32.3)\n",
            "Requirement already satisfied: tokenizers<0.21,>=0.20 in /usr/local/lib/python3.10/dist-packages (from transformers) (0.20.3)\n",
            "Requirement already satisfied: safetensors>=0.4.1 in /usr/local/lib/python3.10/dist-packages (from transformers) (0.4.5)\n",
            "Requirement already satisfied: click<8.2,>=7.1 in /usr/local/lib/python3.10/dist-packages (from gtts) (8.1.7)\n",
            "Requirement already satisfied: fsspec>=2023.5.0 in /usr/local/lib/python3.10/dist-packages (from huggingface-hub<1.0,>=0.23.2->transformers) (2024.10.0)\n",
            "Requirement already satisfied: typing-extensions>=3.7.4.3 in /usr/local/lib/python3.10/dist-packages (from huggingface-hub<1.0,>=0.23.2->transformers) (4.12.2)\n",
            "Requirement already satisfied: charset-normalizer<4,>=2 in /usr/local/lib/python3.10/dist-packages (from requests->transformers) (3.4.0)\n",
            "Requirement already satisfied: idna<4,>=2.5 in /usr/local/lib/python3.10/dist-packages (from requests->transformers) (3.10)\n",
            "Requirement already satisfied: urllib3<3,>=1.21.1 in /usr/local/lib/python3.10/dist-packages (from requests->transformers) (2.2.3)\n",
            "Requirement already satisfied: certifi>=2017.4.17 in /usr/local/lib/python3.10/dist-packages (from requests->transformers) (2024.8.30)\n",
            "Requirement already satisfied: llvmlite<0.44,>=0.43.0dev0 in /usr/local/lib/python3.10/dist-packages (from numba->openai-whisper) (0.43.0)\n",
            "Requirement already satisfied: networkx in /usr/local/lib/python3.10/dist-packages (from torch->openai-whisper) (3.4.2)\n",
            "Requirement already satisfied: jinja2 in /usr/local/lib/python3.10/dist-packages (from torch->openai-whisper) (3.1.4)\n",
            "Requirement already satisfied: sympy==1.13.1 in /usr/local/lib/python3.10/dist-packages (from torch->openai-whisper) (1.13.1)\n",
            "Requirement already satisfied: mpmath<1.4,>=1.1.0 in /usr/local/lib/python3.10/dist-packages (from sympy==1.13.1->torch->openai-whisper) (1.3.0)\n",
            "Requirement already satisfied: MarkupSafe>=2.0 in /usr/local/lib/python3.10/dist-packages (from jinja2->torch->openai-whisper) (3.0.2)\n"
          ]
        }
      ],
      "source": [
        "pip install openai-whisper pydub transformers gtts\n"
      ]
    },
    {
      "cell_type": "code",
      "source": [
        "from transformers import pipeline\n",
        "import whisper\n",
        "from pydub import AudioSegment\n",
        "from transformers import T5Tokenizer, T5ForConditionalGeneration\n",
        "\n",
        "\n"
      ],
      "metadata": {
        "id": "kO8OuRIi8Q8O"
      },
      "execution_count": 15,
      "outputs": []
    },
    {
      "cell_type": "code",
      "execution_count": 16,
      "metadata": {
        "colab": {
          "base_uri": "https://localhost:8080/"
        },
        "id": "SudwXLN4val7",
        "outputId": "7e13ffa0-7631-41fb-d63c-a5695c3aadb0"
      },
      "outputs": [
        {
          "output_type": "stream",
          "name": "stderr",
          "text": [
            "/usr/local/lib/python3.10/dist-packages/whisper/__init__.py:150: FutureWarning: You are using `torch.load` with `weights_only=False` (the current default value), which uses the default pickle module implicitly. It is possible to construct malicious pickle data which will execute arbitrary code during unpickling (See https://github.com/pytorch/pytorch/blob/main/SECURITY.md#untrusted-models for more details). In a future release, the default value for `weights_only` will be flipped to `True`. This limits the functions that could be executed during unpickling. Arbitrary objects will no longer be allowed to be loaded via this mode unless they are explicitly allowlisted by the user via `torch.serialization.add_safe_globals`. We recommend you start setting `weights_only=True` for any use case where you don't have full control of the loaded file. Please open an issue on GitHub for any issues related to this experimental feature.\n",
            "  checkpoint = torch.load(fp, map_location=device)\n"
          ]
        }
      ],
      "source": [
        "model = whisper.load_model(\"base\")\n",
        "# audio to WAV format\n",
        "def preprocess_audio(file_path):\n",
        "    audio = AudioSegment.from_file(file_path)\n",
        "    audio.export(\"converted_audio.wav\", format=\"wav\")\n",
        "# audio to text\n",
        "def transcribe_audio(file_path):\n",
        "    preprocess_audio(file_path)\n",
        "    result = model.transcribe(\"converted_audio.wav\")\n",
        "    return result[\"text\"]"
      ]
    },
    {
      "cell_type": "code",
      "source": [
        "t5_model_name = \"t5-small\"\n",
        "t5_tokenizer = T5Tokenizer.from_pretrained(t5_model_name)\n",
        "t5_model = T5ForConditionalGeneration.from_pretrained(t5_model_name)\n",
        "\n",
        "def summarize_text(text):\n",
        "    inputs = t5_tokenizer.encode(\"summarize: \" + text, return_tensors=\"pt\", max_length=1024, truncation=True)\n",
        "    summary_ids = t5_model.generate(\n",
        "        inputs, max_length=300, min_length=40, length_penalty=2.0, num_beams=4, early_stopping=True\n",
        "    )\n",
        "    return t5_tokenizer.decode(summary_ids[0], skip_special_tokens=True)\n"
      ],
      "metadata": {
        "id": "_kVLMAXFp7ZU"
      },
      "execution_count": 31,
      "outputs": []
    },
    {
      "cell_type": "code",
      "source": [
        "def text_to_audio(text):\n",
        "    output_audio_path=\"summary_audio.mp3\"\n",
        "    tts = gTTS(text)\n",
        "    tts.save(output_audio_path)\n",
        "    print(f\"Summary audio saved as: {output_audio_path}\")"
      ],
      "metadata": {
        "id": "oogbBr6AsbnC"
      },
      "execution_count": 19,
      "outputs": []
    },
    {
      "cell_type": "code",
      "execution_count": 20,
      "metadata": {
        "id": "oGd-P5k99f0E"
      },
      "outputs": [],
      "source": [
        "def audio_summarizer_pipeline(audio_file):\n",
        "    #Convert speech to text\n",
        "    transcript = transcribe_audio(audio_file)\n",
        "    #summarize\n",
        "    summary = summarize_text(transcript)\n",
        "    #audio summary\n",
        "    text_to_audio(summary)\n",
        "    return transcript, summary\n",
        "\n"
      ]
    },
    {
      "cell_type": "markdown",
      "source": [
        "Testing\n"
      ],
      "metadata": {
        "id": "1AdJltAaq4gL"
      }
    },
    {
      "cell_type": "code",
      "execution_count": 11,
      "metadata": {
        "id": "X7NNrnjO9xvV",
        "colab": {
          "base_uri": "https://localhost:8080/"
        },
        "outputId": "1366f248-758f-4747-b30a-7f07e91b1424"
      },
      "outputs": [
        {
          "output_type": "stream",
          "name": "stdout",
          "text": [
            "Test audio file created: test_audio.mp3\n"
          ]
        }
      ],
      "source": [
        "from gtts import gTTS\n",
        "\n",
        "text = \"Artificial Intelligence (AI) is a transformative technology that has revolutionized countless aspects of human life, reshaping industries, enhancing productivity, and driving innovation. At its core, AI refers to the simulation of human intelligence processes by machines, especially computer systems, to perform tasks that typically require human cognition. These processes include learning, reasoning, problem-solving, perception, and language understanding. Machine learning, a subset of AI, enables systems to learn from data and improve their performance over time without explicit programming. Deep learning, a further subfield, uses neural networks to analyze vast amounts of data, achieving breakthroughs in image recognition, natural language processing, and autonomous systems. AI is the backbone of many modern technologies, from virtual assistants like Siri and Alexa to recommendation systems on platforms like Netflix and Amazon. In healthcare, AI assists in early disease detection, personalized medicine, and surgical robotics. In transportation, it powers autonomous vehicles and traffic management systems. AI's applications extend to finance, education, agriculture, and even entertainment, where it creates immersive experiences and generates realistic content. Despite its immense potential, AI also raises ethical concerns, such as biases in algorithms, privacy issues, and the displacement of jobs. As AI continues to evolve, its development must be guided by principles of fairness, transparency, and accountability to ensure it benefits humanity. With advancements in generative AI, robotics, and edge computing, the future of AI holds promise for solving some of the world's most complex challenges, from climate change to global pandemics, making it one of the most significant technological advancements of the 21st century.\"\n",
        "tts = gTTS(text)\n",
        "audio_file = \"test_audio.mp3\"\n",
        "tts.save(audio_file)\n",
        "print(\"Test audio file created:\", audio_file)\n"
      ]
    },
    {
      "cell_type": "code",
      "source": [
        "transcript,summary = audio_summarizer_pipeline(audio_file)\n",
        "print(\"transcript:\",transcript)\n",
        "print(\"summary:\",summary)"
      ],
      "metadata": {
        "colab": {
          "base_uri": "https://localhost:8080/"
        },
        "id": "FTyi1KCVteEk",
        "outputId": "ad1cf53c-4a56-45dd-ecbb-0a7f934b6b9d"
      },
      "execution_count": 32,
      "outputs": [
        {
          "output_type": "stream",
          "name": "stderr",
          "text": [
            "/usr/local/lib/python3.10/dist-packages/whisper/transcribe.py:126: UserWarning: FP16 is not supported on CPU; using FP32 instead\n",
            "  warnings.warn(\"FP16 is not supported on CPU; using FP32 instead\")\n"
          ]
        },
        {
          "output_type": "stream",
          "name": "stdout",
          "text": [
            "Summary audio saved as: summary_audio.mp3\n",
            "transcript:  Artificial Intelligence AI is a transformative technology that has revolutionized countless aspects of human life. Re-shaping industries, enhancing productivity and driving innovation at its core, AI refers to the simulation of human intelligence processes by machines. Especially computer systems. To perform tasks that typically require human cognition, these processes include learning, reasoning, problem solving, perception, and language understanding, machine learning, a subset of AI, enables systems to learn from data and improve their performance over time without explicit. Programming, deep learning, a further subfield uses neural networks to analyze vast amounts of data, achieving breakthroughs in image recognition, natural language processing, and autonomous systems AI is the backbone of many modern technologies. From virtual assistants like Siri and Alexa to recommendation systems on platforms like Netflix and Amazon. In healthcare, AI assists in early disease detection, personalized medicine, and surgical robotics. In transportation, it powers autonomous vehicles and traffic management systems AI's applications extend to finance, education, agriculture, and even entertainment. Where it creates immersive experiences and generates realistic content. Despite its immense potential, AI also raises ethical concerns, such as biases in algorithms, privacy issues, and the displacement of jobs. As AI continues to evolve, its development must be guided by principles of fairness, transparency, and accountability to ensure it benefits humanity. With advancements in generative AI, robotics, and edge computing, the future of AI holds promise for solving some of the world's most complex challenges. From climate change to global pandemics, making it one of the most significant technological advancements of the 21st century.\n",
            "summary: AI is a transformative technology that has revolutionized many aspects of human life. it refers to the simulation of human intelligence processes by machines. machine learning, a subfield of AI, enables systems to learn from data and improve performance over time without explicit.\n"
          ]
        }
      ]
    },
    {
      "cell_type": "code",
      "source": [],
      "metadata": {
        "id": "d97tjzuN7hfh"
      },
      "execution_count": null,
      "outputs": []
    }
  ],
  "metadata": {
    "colab": {
      "provenance": [],
      "authorship_tag": "ABX9TyOjQ2M/1IyjAIhrMuU/qxPi",
      "include_colab_link": true
    },
    "kernelspec": {
      "display_name": "Python 3",
      "name": "python3"
    },
    "language_info": {
      "name": "python"
    }
  },
  "nbformat": 4,
  "nbformat_minor": 0
}